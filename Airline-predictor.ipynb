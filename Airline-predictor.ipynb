{
 "cells": [
  {
   "cell_type": "markdown",
   "metadata": {},
   "source": [
    "# <span style=\"color:#00c5cd; font-size:34px;\" >Airline predictor</span>\n",
    "### <span style=\"color:#ff4444;\">Þórhildur Þorleiksdóttir and Lea El Hage </span>\n",
    "#### <span style=\"color:#ffb14c;\">Artificial Intelligence And Applied Methods, 2017</span>"
   ]
  },
  {
   "cell_type": "code",
   "execution_count": 1,
   "metadata": {},
   "outputs": [
    {
     "data": {
      "text/html": [
       "<script>requirejs.config({paths: { 'plotly': ['https://cdn.plot.ly/plotly-latest.min']},});if(!window.Plotly) {{require(['plotly'],function(plotly) {window.Plotly=plotly;});}}</script>"
      ],
      "text/vnd.plotly.v1+html": [
       "<script>requirejs.config({paths: { 'plotly': ['https://cdn.plot.ly/plotly-latest.min']},});if(!window.Plotly) {{require(['plotly'],function(plotly) {window.Plotly=plotly;});}}</script>"
      ]
     },
     "metadata": {},
     "output_type": "display_data"
    }
   ],
   "source": [
    "import pandas as pd\n",
    "import matplotlib\n",
    "import matplotlib.pyplot as plt\n",
    "import numpy as np\n",
    "from plotly.offline import download_plotlyjs, init_notebook_mode, iplot\n",
    "from plotly.graph_objs import *\n",
    "from plotly.offline.offline import _plot_html\n",
    "init_notebook_mode(connected=True)\n",
    "%matplotlib inline\n",
    "matplotlib.style.use('ggplot')\n",
    "\n"
   ]
  },
  {
   "cell_type": "code",
   "execution_count": 2,
   "metadata": {},
   "outputs": [],
   "source": [
    "data = pd.read_csv('flights.csv', encoding='ISO-8859-1', nrows = 10000, usecols=[0,1,2,4,7,11,24], low_memory=False) #,25,26,27,28,29,30])\n",
    "# Year0 | Month1 | Day2 | Airline4 | Origin_airport7 | Departure_delay11 | Cancelled24 | Cancellation_reason25 | Air_system_delay26 | Security_delay27 | Airline_delay28 | Late_Aircraft_delay29 | \n",
    "#Weather_delay30"
   ]
  },
  {
   "cell_type": "code",
   "execution_count": 3,
   "metadata": {},
   "outputs": [],
   "source": [
    "flight_data = data.rename(columns={'YEAR':'year','MONTH':'month','DAY':'day',\n",
    "                                   'AIRLINE':'airline','ORIGIN_AIRPORT':'airport','DEPARTURE_DELAY':'delay', \n",
    "                                   'CANCELLED':'cancelled'})\n",
    "\n",
    "\n",
    "flight_data['date'] = pd.to_datetime(flight_data[['year','month','day']]).dt.date\n",
    "\n",
    "flight_data['delay'] = (flight_data['delay'] > 0).astype(int)"
   ]
  },
  {
   "cell_type": "code",
   "execution_count": 4,
   "metadata": {},
   "outputs": [],
   "source": [
    "#Total flight per month\n",
    "\n",
    "flight_data['count'] = 0\n",
    "flights_per_month = flight_data.groupby(['month'])['count'].count().to_frame()"
   ]
  },
  {
   "cell_type": "code",
   "execution_count": 5,
   "metadata": {},
   "outputs": [],
   "source": [
    "#Delayed flights per month\n",
    "\n",
    "flight_data_delays = flight_data[(flight_data.delay == 1)]\n",
    "delayed_flights_per_month = flight_data_delays.groupby(['month'])['count'].count().to_frame()\n",
    "delayed_flights_per_month = delayed_flights_per_month.rename(columns={'count':'d_count'})"
   ]
  },
  {
   "cell_type": "code",
   "execution_count": 6,
   "metadata": {},
   "outputs": [],
   "source": [
    "#Cancelation of flights per month\n",
    "\n",
    "flight_data_cancelation = flight_data[(flight_data.cancelled == 1)]\n",
    "cancelled_flights_per_month = flight_data_cancelation.groupby(['month'])['count'].count().to_frame()\n",
    "cancelled_flights_per_month = cancelled_flights_per_month.rename(columns={'count':'c_count'})\n"
   ]
  },
  {
   "cell_type": "code",
   "execution_count": 11,
   "metadata": {
    "scrolled": true
   },
   "outputs": [
    {
     "name": "stdout",
     "output_type": "stream",
     "text": [
      "[ 1  2  3  4  5  6  7  8  9 10 11 12]\n"
     ]
    },
    {
     "data": {
      "application/vnd.plotly.v1+json": {
       "data": [
        {
         "line": {
          "color": "rgb(100, 100, 100)",
          "width": 4
         },
         "mode": "lines",
         "name": "Flights",
         "type": "scatter",
         "x": [
          1,
          2,
          3,
          4,
          5,
          6,
          7,
          8,
          9,
          10,
          11,
          12
         ],
         "y": [
          10000
         ]
        }
       ],
       "layout": {
        "title": "Flights per month",
        "xaxis": {
         "showgrid": true,
         "showline": true,
         "title": "Months"
        },
        "yaxis": {
         "range": [
          0,
          1200
         ],
         "showgrid": false,
         "showline": true,
         "title": "Frequency"
        }
       }
      },
      "text/html": [
       "<div id=\"46991d44-b52d-478e-a614-8c8fb51a2a65\" style=\"height: 525px; width: 100%;\" class=\"plotly-graph-div\"></div><script type=\"text/javascript\">require([\"plotly\"], function(Plotly) { window.PLOTLYENV=window.PLOTLYENV || {};window.PLOTLYENV.BASE_URL=\"https://plot.ly\";Plotly.newPlot(\"46991d44-b52d-478e-a614-8c8fb51a2a65\", [{\"type\": \"scatter\", \"x\": [1, 2, 3, 4, 5, 6, 7, 8, 9, 10, 11, 12], \"y\": [10000], \"mode\": \"lines\", \"name\": \"Flights\", \"line\": {\"color\": \"rgb(100, 100, 100)\", \"width\": 4}}], {\"title\": \"Flights per month\", \"xaxis\": {\"title\": \"Months\", \"showline\": true, \"showgrid\": true}, \"yaxis\": {\"range\": [0, 1200], \"title\": \"Frequency\", \"showline\": true, \"showgrid\": false}}, {\"showLink\": true, \"linkText\": \"Export to plot.ly\"})});</script>"
      ],
      "text/vnd.plotly.v1+html": [
       "<div id=\"46991d44-b52d-478e-a614-8c8fb51a2a65\" style=\"height: 525px; width: 100%;\" class=\"plotly-graph-div\"></div><script type=\"text/javascript\">require([\"plotly\"], function(Plotly) { window.PLOTLYENV=window.PLOTLYENV || {};window.PLOTLYENV.BASE_URL=\"https://plot.ly\";Plotly.newPlot(\"46991d44-b52d-478e-a614-8c8fb51a2a65\", [{\"type\": \"scatter\", \"x\": [1, 2, 3, 4, 5, 6, 7, 8, 9, 10, 11, 12], \"y\": [10000], \"mode\": \"lines\", \"name\": \"Flights\", \"line\": {\"color\": \"rgb(100, 100, 100)\", \"width\": 4}}], {\"title\": \"Flights per month\", \"xaxis\": {\"title\": \"Months\", \"showline\": true, \"showgrid\": true}, \"yaxis\": {\"range\": [0, 1200], \"title\": \"Frequency\", \"showline\": true, \"showgrid\": false}}, {\"showLink\": true, \"linkText\": \"Export to plot.ly\"})});</script>"
      ]
     },
     "metadata": {},
     "output_type": "display_data"
    }
   ],
   "source": [
    "#Mergin the dataframes on date for the plot\n",
    "\n",
    "merged_frame = pd.concat([flights_per_month, delayed_flights_per_month, cancelled_flights_per_month], axis=1)\n",
    "\n",
    "#ax = merged_frame[['c_count','d_count','count']].plot(kind='bar', title='flights per month', figsize=(15,10),fontsize=12)\n",
    "#ax.set_xlabel('date', fontsize=12)\n",
    "#ax.set_ylabel('Frequences', fontsize=12)\n",
    "#plt.show()\n",
    "\n",
    "months = np.arange(1, 13)\n",
    "print(months)\n",
    "\n",
    "flights = dict(\n",
    "         type = 'scatter',\n",
    "         x = months,\n",
    "         y = flights_per_month['count'],\n",
    "         mode = 'lines',\n",
    "         name = 'Flights',\n",
    "         line = dict(\n",
    "             color = 'rgb(100, 100, 100)',\n",
    "             width = 4)\n",
    "         )\n",
    "\n",
    "layout = Layout(\n",
    "         title = 'Flights per month',\n",
    "         xaxis = dict(\n",
    "             #rangeslider = dict(thickness = 1),\n",
    "             title = 'Months',\n",
    "             showline = True,\n",
    "             showgrid = True\n",
    "         ),\n",
    "         yaxis = dict(\n",
    "             range = [0, 1200],\n",
    "             title = 'Frequency',\n",
    "             showline = True,\n",
    "             showgrid = False)\n",
    "         )\n",
    "\n",
    "data = [flights]\n",
    "figure = dict(data = data, layout = layout)\n",
    "iplot(figure)\n",
    "\n"
   ]
  },
  {
   "cell_type": "code",
   "execution_count": null,
   "metadata": {
    "collapsed": true
   },
   "outputs": [],
   "source": [
    "flights_per_day"
   ]
  },
  {
   "cell_type": "code",
   "execution_count": 122,
   "metadata": {},
   "outputs": [
    {
     "data": {
      "text/plain": [
       "<pandas.core.groupby.DataFrameGroupBy object at 0x129121940>"
      ]
     },
     "execution_count": 122,
     "metadata": {},
     "output_type": "execute_result"
    }
   ],
   "source": []
  },
  {
   "cell_type": "code",
   "execution_count": null,
   "metadata": {
    "collapsed": true
   },
   "outputs": [],
   "source": []
  }
 ],
 "metadata": {
  "kernelspec": {
   "display_name": "Python 3",
   "language": "python",
   "name": "python3"
  },
  "language_info": {
   "codemirror_mode": {
    "name": "ipython",
    "version": 3
   },
   "file_extension": ".py",
   "mimetype": "text/x-python",
   "name": "python",
   "nbconvert_exporter": "python",
   "pygments_lexer": "ipython3",
   "version": "3.6.3"
  }
 },
 "nbformat": 4,
 "nbformat_minor": 2
}
