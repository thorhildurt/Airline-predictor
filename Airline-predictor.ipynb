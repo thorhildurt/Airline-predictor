{
 "cells": [
  {
   "cell_type": "markdown",
   "metadata": {},
   "source": [
    "# <span style=\"color:#00c5cd; font-size:34px;\" >Airline predictor</span>\n",
    "### <span style=\"color:#ff4444;\">Þórhildur Þorleiksdóttir and Lea El Hage </span>\n",
    "#### <span style=\"color:#ffb14c;\">Artificial Intelligence And Applied Methods, 2017</span>"
   ]
  },
  {
   "cell_type": "code",
   "execution_count": 2,
   "metadata": {},
   "outputs": [
    {
     "data": {
      "text/html": [
       "<script>requirejs.config({paths: { 'plotly': ['https://cdn.plot.ly/plotly-latest.min']},});if(!window.Plotly) {{require(['plotly'],function(plotly) {window.Plotly=plotly;});}}</script>"
      ],
      "text/vnd.plotly.v1+html": [
       "<script>requirejs.config({paths: { 'plotly': ['https://cdn.plot.ly/plotly-latest.min']},});if(!window.Plotly) {{require(['plotly'],function(plotly) {window.Plotly=plotly;});}}</script>"
      ]
     },
     "metadata": {},
     "output_type": "display_data"
    }
   ],
   "source": [
    "import matplotlib\n",
    "#matplotlib.use('GTKAgg')\n",
    "\n",
    "import matplotlib.pyplot as plt\n",
    "import numpy as np\n",
    "from plotly.offline import download_plotlyjs, init_notebook_mode, iplot\n",
    "from plotly.graph_objs import *\n",
    "from plotly.offline.offline import _plot_html\n",
    "import plotly.graph_objs as go\n",
    "import plotly.plotly as py\n",
    "\n",
    "from sklearn import datasets, linear_model\n",
    "from sklearn.model_selection import train_test_split\n",
    "from sklearn.naive_bayes import GaussianNB\n",
    "from sklearn.metrics import accuracy_score\n",
    "\n",
    "import pandas as pd\n",
    "\n",
    "\n",
    "init_notebook_mode(connected=True)\n",
    "%matplotlib inline\n",
    "matplotlib.style.use('ggplot')\n",
    "\n",
    " \n",
    "\n"
   ]
  },
  {
   "cell_type": "code",
   "execution_count": 3,
   "metadata": {
    "collapsed": true
   },
   "outputs": [],
   "source": [
    "data = pd.read_csv('flights.csv', encoding='ISO-8859-1', usecols=[0,1,2,4,7,11,24], low_memory=False) #,25,26,27,28,29,30])\n",
    "# Year0 | Month1 | Day2 | Airline4 | Origin_airport7 | Departure_delay11 | Cancelled24 | Cancellation_reason25 | Air_system_delay26 | Security_delay27 | Airline_delay28 | Late_Aircraft_delay29 | \n",
    "#Weather_delay30"
   ]
  },
  {
   "cell_type": "code",
   "execution_count": 4,
   "metadata": {},
   "outputs": [
    {
     "data": {
      "text/html": [
       "<div>\n",
       "<style>\n",
       "    .dataframe thead tr:only-child th {\n",
       "        text-align: right;\n",
       "    }\n",
       "\n",
       "    .dataframe thead th {\n",
       "        text-align: left;\n",
       "    }\n",
       "\n",
       "    .dataframe tbody tr th {\n",
       "        vertical-align: top;\n",
       "    }\n",
       "</style>\n",
       "<table border=\"1\" class=\"dataframe\">\n",
       "  <thead>\n",
       "    <tr style=\"text-align: right;\">\n",
       "      <th></th>\n",
       "      <th>code</th>\n",
       "      <th>airline</th>\n",
       "    </tr>\n",
       "  </thead>\n",
       "  <tbody>\n",
       "    <tr>\n",
       "      <th>0</th>\n",
       "      <td>UA</td>\n",
       "      <td>United Air Lines Inc.</td>\n",
       "    </tr>\n",
       "    <tr>\n",
       "      <th>1</th>\n",
       "      <td>AA</td>\n",
       "      <td>American Airlines Inc.</td>\n",
       "    </tr>\n",
       "    <tr>\n",
       "      <th>2</th>\n",
       "      <td>US</td>\n",
       "      <td>US Airways Inc.</td>\n",
       "    </tr>\n",
       "    <tr>\n",
       "      <th>3</th>\n",
       "      <td>F9</td>\n",
       "      <td>Frontier Airlines Inc.</td>\n",
       "    </tr>\n",
       "    <tr>\n",
       "      <th>4</th>\n",
       "      <td>B6</td>\n",
       "      <td>JetBlue Airways</td>\n",
       "    </tr>\n",
       "    <tr>\n",
       "      <th>5</th>\n",
       "      <td>OO</td>\n",
       "      <td>Skywest Airlines Inc.</td>\n",
       "    </tr>\n",
       "    <tr>\n",
       "      <th>6</th>\n",
       "      <td>AS</td>\n",
       "      <td>Alaska Airlines Inc.</td>\n",
       "    </tr>\n",
       "    <tr>\n",
       "      <th>7</th>\n",
       "      <td>NK</td>\n",
       "      <td>Spirit Air Lines</td>\n",
       "    </tr>\n",
       "    <tr>\n",
       "      <th>8</th>\n",
       "      <td>WN</td>\n",
       "      <td>Southwest Airlines Co.</td>\n",
       "    </tr>\n",
       "    <tr>\n",
       "      <th>9</th>\n",
       "      <td>DL</td>\n",
       "      <td>Delta Air Lines Inc.</td>\n",
       "    </tr>\n",
       "    <tr>\n",
       "      <th>10</th>\n",
       "      <td>EV</td>\n",
       "      <td>Atlantic Southeast Airlines</td>\n",
       "    </tr>\n",
       "    <tr>\n",
       "      <th>11</th>\n",
       "      <td>HA</td>\n",
       "      <td>Hawaiian Airlines Inc.</td>\n",
       "    </tr>\n",
       "    <tr>\n",
       "      <th>12</th>\n",
       "      <td>MQ</td>\n",
       "      <td>American Eagle Airlines Inc.</td>\n",
       "    </tr>\n",
       "    <tr>\n",
       "      <th>13</th>\n",
       "      <td>VX</td>\n",
       "      <td>Virgin America</td>\n",
       "    </tr>\n",
       "  </tbody>\n",
       "</table>\n",
       "</div>"
      ],
      "text/plain": [
       "   code                       airline\n",
       "0    UA         United Air Lines Inc.\n",
       "1    AA        American Airlines Inc.\n",
       "2    US               US Airways Inc.\n",
       "3    F9        Frontier Airlines Inc.\n",
       "4    B6               JetBlue Airways\n",
       "5    OO         Skywest Airlines Inc.\n",
       "6    AS          Alaska Airlines Inc.\n",
       "7    NK              Spirit Air Lines\n",
       "8    WN        Southwest Airlines Co.\n",
       "9    DL          Delta Air Lines Inc.\n",
       "10   EV   Atlantic Southeast Airlines\n",
       "11   HA        Hawaiian Airlines Inc.\n",
       "12   MQ  American Eagle Airlines Inc.\n",
       "13   VX                Virgin America"
      ]
     },
     "execution_count": 4,
     "metadata": {},
     "output_type": "execute_result"
    }
   ],
   "source": [
    "#NOT WORKING READS FLIGHT INSTEAD OF AIRLINE\n",
    "\n",
    "airline = pd.read_csv('airlines.csv',  usecols=[0,1], low_memory=False)\n",
    "airline_data = airline.rename(columns={'IATA_CODE':'code','AIRLINE':'airline'})\n",
    "airline_data\n",
    "\n"
   ]
  },
  {
   "cell_type": "code",
   "execution_count": 5,
   "metadata": {
    "collapsed": true
   },
   "outputs": [],
   "source": [
    "flight_data = data.rename(columns={'YEAR':'year','MONTH':'month','DAY':'day',\n",
    "                                   'AIRLINE':'airline','ORIGIN_AIRPORT':'airport','DEPARTURE_DELAY':'delay', \n",
    "                                   'CANCELLED':'cancelled'})\n",
    "\n",
    "\n",
    "flight_data['date'] = pd.to_datetime(flight_data[['year','month','day']]).dt.date\n",
    "\n",
    "flight_data['delay'] = (flight_data['delay'] > 0).astype(int)"
   ]
  },
  {
   "cell_type": "code",
   "execution_count": null,
   "metadata": {
    "collapsed": true
   },
   "outputs": [],
   "source": []
  },
  {
   "cell_type": "code",
   "execution_count": 6,
   "metadata": {
    "collapsed": true
   },
   "outputs": [],
   "source": [
    "#Total flight per month\n",
    "\n",
    "flight_data['count'] = 0\n",
    "flights_per_month = flight_data.groupby(['month'])['count'].count().to_frame()"
   ]
  },
  {
   "cell_type": "code",
   "execution_count": 7,
   "metadata": {
    "collapsed": true
   },
   "outputs": [],
   "source": [
    "#Delayed flights per month\n",
    "\n",
    "flight_data_delays = flight_data[(flight_data.delay == 1)]\n",
    "delayed_flights_per_month = flight_data_delays.groupby(['month'])['count'].count().to_frame()\n",
    "delayed_flights_per_month = delayed_flights_per_month.rename(columns={'count':'d_count'})"
   ]
  },
  {
   "cell_type": "code",
   "execution_count": 8,
   "metadata": {
    "collapsed": true
   },
   "outputs": [],
   "source": [
    "#Cancelation of flights per month\n",
    "\n",
    "flight_data_cancelation = flight_data[(flight_data.cancelled == 1)]\n",
    "cancelled_flights_per_month = flight_data_cancelation.groupby(['month'])['count'].count().to_frame()\n",
    "cancelled_flights_per_month = cancelled_flights_per_month.rename(columns={'count':'c_count'})\n"
   ]
  },
  {
   "cell_type": "code",
   "execution_count": 9,
   "metadata": {
    "scrolled": true
   },
   "outputs": [
    {
     "data": {
      "image/png": "[encoded data removed]",
      "text/plain": [
       "<matplotlib.figure.Figure at 0x1a0aeef668>"
      ]
     },
     "metadata": {},
     "output_type": "display_data"
    }
   ],
   "source": [
    "#Mergin the dataframes on date for the plot\n",
    "\n",
    "merged_frame = pd.concat([flights_per_month, delayed_flights_per_month, cancelled_flights_per_month], axis=1)\n",
    "\n",
    "ax = merged_frame[['c_count','d_count','count']].plot(kind='bar', title='flights per month', figsize=(15,10),fontsize=12)\n",
    "ax.set_xlabel('date', fontsize=12)\n",
    "ax.set_ylabel('Frequences', fontsize=12)\n",
    "plt.show()\n",
    "\n"
   ]
  },
  {
   "cell_type": "code",
   "execution_count": 10,
   "metadata": {},
   "outputs": [
    {
     "data": {
      "text/html": [
       "<div>\n",
       "<style>\n",
       "    .dataframe thead tr:only-child th {\n",
       "        text-align: right;\n",
       "    }\n",
       "\n",
       "    .dataframe thead th {\n",
       "        text-align: left;\n",
       "    }\n",
       "\n",
       "    .dataframe tbody tr th {\n",
       "        vertical-align: top;\n",
       "    }\n",
       "</style>\n",
       "<table border=\"1\" class=\"dataframe\">\n",
       "  <thead>\n",
       "    <tr style=\"text-align: right;\">\n",
       "      <th></th>\n",
       "      <th>count</th>\n",
       "    </tr>\n",
       "    <tr>\n",
       "      <th>month</th>\n",
       "      <th></th>\n",
       "    </tr>\n",
       "  </thead>\n",
       "  <tbody>\n",
       "    <tr>\n",
       "      <th>1</th>\n",
       "      <td>469968</td>\n",
       "    </tr>\n",
       "    <tr>\n",
       "      <th>2</th>\n",
       "      <td>429191</td>\n",
       "    </tr>\n",
       "    <tr>\n",
       "      <th>3</th>\n",
       "      <td>504312</td>\n",
       "    </tr>\n",
       "    <tr>\n",
       "      <th>4</th>\n",
       "      <td>485151</td>\n",
       "    </tr>\n",
       "    <tr>\n",
       "      <th>5</th>\n",
       "      <td>496993</td>\n",
       "    </tr>\n",
       "    <tr>\n",
       "      <th>6</th>\n",
       "      <td>503897</td>\n",
       "    </tr>\n",
       "    <tr>\n",
       "      <th>7</th>\n",
       "      <td>520718</td>\n",
       "    </tr>\n",
       "    <tr>\n",
       "      <th>8</th>\n",
       "      <td>510536</td>\n",
       "    </tr>\n",
       "    <tr>\n",
       "      <th>9</th>\n",
       "      <td>464946</td>\n",
       "    </tr>\n",
       "    <tr>\n",
       "      <th>10</th>\n",
       "      <td>486165</td>\n",
       "    </tr>\n",
       "    <tr>\n",
       "      <th>11</th>\n",
       "      <td>467972</td>\n",
       "    </tr>\n",
       "    <tr>\n",
       "      <th>12</th>\n",
       "      <td>479230</td>\n",
       "    </tr>\n",
       "  </tbody>\n",
       "</table>\n",
       "</div>"
      ],
      "text/plain": [
       "        count\n",
       "month        \n",
       "1      469968\n",
       "2      429191\n",
       "3      504312\n",
       "4      485151\n",
       "5      496993\n",
       "6      503897\n",
       "7      520718\n",
       "8      510536\n",
       "9      464946\n",
       "10     486165\n",
       "11     467972\n",
       "12     479230"
      ]
     },
     "execution_count": 10,
     "metadata": {},
     "output_type": "execute_result"
    }
   ],
   "source": [
    "flights_per_month"
   ]
  },
  {
   "cell_type": "markdown",
   "metadata": {
    "collapsed": true
   },
   "source": [
    "This pie chart represents the Flights delay grouped by airline. This will allow us to visualize which airline causes \n",
    "the most delay. This is done by taking our flight data delay table and joining it with the table airline to get more information about the flights.\n",
    "From the results we can see that WN has the most delay which is predictable since the airline has the most flights in total. Then DL and UA are next.\n"
   ]
  },
  {
   "cell_type": "code",
   "execution_count": 11,
   "metadata": {},
   "outputs": [
    {
     "data": {
      "application/vnd.plotly.v1+json": {
       "data": [
        {
         "hoverinfo": "label+percent",
         "labels": [
          "AA",
          "AS",
          "B6",
          "DL",
          "EV",
          "F9",
          "HA",
          "MQ",
          "NK",
          "OO",
          "UA",
          "US",
          "VX",
          "WN"
         ],
         "type": "pie",
         "values": [
          11.57,
          2.05,
          4.8,
          13.29,
          7.99,
          1.64,
          0.95,
          4.41,
          2.45,
          8.07,
          12.07,
          2.94,
          1.1,
          26.67
         ]
        }
       ],
       "layout": {
        "title": "Pie chart of the delays per airline"
       }
      },
      "text/html": [
       "<div id=\"6089891b-5c85-4d77-b2ff-bdd1b7701084\" style=\"height: 525px; width: 100%;\" class=\"plotly-graph-div\"></div><script type=\"text/javascript\">require([\"plotly\"], function(Plotly) { window.PLOTLYENV=window.PLOTLYENV || {};window.PLOTLYENV.BASE_URL=\"https://plot.ly\";Plotly.newPlot(\"6089891b-5c85-4d77-b2ff-bdd1b7701084\", [{\"labels\": [\"AA\", \"AS\", \"B6\", \"DL\", \"EV\", \"F9\", \"HA\", \"MQ\", \"NK\", \"OO\", \"UA\", \"US\", \"VX\", \"WN\"], \"values\": [11.57, 2.05, 4.8, 13.29, 7.99, 1.64, 0.95, 4.41, 2.45, 8.07, 12.07, 2.94, 1.1, 26.67], \"type\": \"pie\", \"hoverinfo\": \"label+percent\"}], {\"title\": \"Pie chart of the delays per airline\"}, {\"showLink\": true, \"linkText\": \"Export to plot.ly\"})});</script>"
      ],
      "text/vnd.plotly.v1+html": [
       "<div id=\"6089891b-5c85-4d77-b2ff-bdd1b7701084\" style=\"height: 525px; width: 100%;\" class=\"plotly-graph-div\"></div><script type=\"text/javascript\">require([\"plotly\"], function(Plotly) { window.PLOTLYENV=window.PLOTLYENV || {};window.PLOTLYENV.BASE_URL=\"https://plot.ly\";Plotly.newPlot(\"6089891b-5c85-4d77-b2ff-bdd1b7701084\", [{\"labels\": [\"AA\", \"AS\", \"B6\", \"DL\", \"EV\", \"F9\", \"HA\", \"MQ\", \"NK\", \"OO\", \"UA\", \"US\", \"VX\", \"WN\"], \"values\": [11.57, 2.05, 4.8, 13.29, 7.99, 1.64, 0.95, 4.41, 2.45, 8.07, 12.07, 2.94, 1.1, 26.67], \"type\": \"pie\", \"hoverinfo\": \"label+percent\"}], {\"title\": \"Pie chart of the delays per airline\"}, {\"showLink\": true, \"linkText\": \"Export to plot.ly\"})});</script>"
      ]
     },
     "metadata": {},
     "output_type": "display_data"
    }
   ],
   "source": [
    "flights_per_airline = flight_data_delays.groupby(['airline'])['count'].count().to_frame()\n",
    "flights_per_airline = flights_per_airline.rename(columns={'count':'total_delay'})\n",
    "\n",
    "flights_per_airline\n",
    "\n",
    "values = flights_per_airline['total_delay'].tolist()\n",
    "labels = flights_per_airline.index.tolist()\n",
    "\n",
    "total_d =0\n",
    "for i in values:\n",
    "    total_d = i + total_d\n",
    "    \n",
    "total_ratio = [round(i / total_d * 100, 2) for i in values]\n",
    "\n",
    "\n",
    "fig = {\n",
    "    'data': [{'labels': labels,\n",
    "              'values': total_ratio,\n",
    "              'type': 'pie',\n",
    "              'hoverinfo':'label+percent',\n",
    "             }],\n",
    "\n",
    "    'layout': {'title': 'Pie chart of the delays per airline'}\n",
    "     }\n",
    "\n",
    "iplot(fig)\n",
    "\n"
   ]
  },
  {
   "cell_type": "markdown",
   "metadata": {},
   "source": [
    "This pie chart represents the Flights cancelled grouped by airline. This will allow us to visualize which airline causes the most cancelation. This is done by taking our flight data cancelation table and joining it with the table airline to get more information about the flights. From the results we can see that WN has the most cancelation which is predictable since the airline has the most flights in total. Then EV and MQ are next."
   ]
  },
  {
   "cell_type": "code",
   "execution_count": 12,
   "metadata": {},
   "outputs": [
    {
     "data": {
      "application/vnd.plotly.v1+json": {
       "data": [
        {
         "hoverinfo": "label+percent",
         "labels": [
          "AA",
          "AS",
          "B6",
          "DL",
          "EV",
          "F9",
          "HA",
          "MQ",
          "NK",
          "OO",
          "UA",
          "US",
          "VX",
          "WN"
         ],
         "type": "pie",
         "values": [
          12.15,
          0.74,
          4.76,
          4.25,
          16.95,
          0.65,
          0.19,
          16.72,
          2.23,
          11.08,
          7.31,
          4.52,
          0.59,
          17.85
         ]
        }
       ],
       "layout": {
        "title": "Pie chart of the cancelation per airline"
       }
      },
      "text/html": [
       "<div id=\"4583fb46-6b7a-44ac-b3e2-8e522fb6abd1\" style=\"height: 525px; width: 100%;\" class=\"plotly-graph-div\"></div><script type=\"text/javascript\">require([\"plotly\"], function(Plotly) { window.PLOTLYENV=window.PLOTLYENV || {};window.PLOTLYENV.BASE_URL=\"https://plot.ly\";Plotly.newPlot(\"4583fb46-6b7a-44ac-b3e2-8e522fb6abd1\", [{\"labels\": [\"AA\", \"AS\", \"B6\", \"DL\", \"EV\", \"F9\", \"HA\", \"MQ\", \"NK\", \"OO\", \"UA\", \"US\", \"VX\", \"WN\"], \"values\": [12.15, 0.74, 4.76, 4.25, 16.95, 0.65, 0.19, 16.72, 2.23, 11.08, 7.31, 4.52, 0.59, 17.85], \"type\": \"pie\", \"hoverinfo\": \"label+percent\"}], {\"title\": \"Pie chart of the cancelation per airline\"}, {\"showLink\": true, \"linkText\": \"Export to plot.ly\"})});</script>"
      ],
      "text/vnd.plotly.v1+html": [
       "<div id=\"4583fb46-6b7a-44ac-b3e2-8e522fb6abd1\" style=\"height: 525px; width: 100%;\" class=\"plotly-graph-div\"></div><script type=\"text/javascript\">require([\"plotly\"], function(Plotly) { window.PLOTLYENV=window.PLOTLYENV || {};window.PLOTLYENV.BASE_URL=\"https://plot.ly\";Plotly.newPlot(\"4583fb46-6b7a-44ac-b3e2-8e522fb6abd1\", [{\"labels\": [\"AA\", \"AS\", \"B6\", \"DL\", \"EV\", \"F9\", \"HA\", \"MQ\", \"NK\", \"OO\", \"UA\", \"US\", \"VX\", \"WN\"], \"values\": [12.15, 0.74, 4.76, 4.25, 16.95, 0.65, 0.19, 16.72, 2.23, 11.08, 7.31, 4.52, 0.59, 17.85], \"type\": \"pie\", \"hoverinfo\": \"label+percent\"}], {\"title\": \"Pie chart of the cancelation per airline\"}, {\"showLink\": true, \"linkText\": \"Export to plot.ly\"})});</script>"
      ]
     },
     "metadata": {},
     "output_type": "display_data"
    }
   ],
   "source": [
    "airline_cancel = flight_data_cancelation.groupby(['airline'])['count'].count().to_frame()\n",
    "\n",
    "values = airline_cancel['count'].tolist()\n",
    "labels = airline_cancel.index.tolist()\n",
    "\n",
    "total_c =0\n",
    "for i in values:\n",
    "    total_c = i + total_c\n",
    "    \n",
    "total_ratio = [round(i / total_c * 100, 2) for i in values]\n",
    "\n",
    "fig = {\n",
    "    'data': [{'labels': labels,\n",
    "              'values': total_ratio,\n",
    "              'type': 'pie',\n",
    "              'hoverinfo':'label+percent',\n",
    "             }],\n",
    "\n",
    "    'layout': {'title': 'Pie chart of the cancelation per airline'}\n",
    "     }\n",
    "\n",
    "iplot(fig)"
   ]
  },
  {
   "cell_type": "code",
   "execution_count": 13,
   "metadata": {},
   "outputs": [
    {
     "ename": "ValueError",
     "evalue": "Expected 2D array, got 1D array instead:\narray=[ 1  1  1 ..., 31 31 31].\nReshape your data either using array.reshape(-1, 1) if your data has a single feature or array.reshape(1, -1) if it contains a single sample.",
     "output_type": "error",
     "traceback": [
      "\u001b[0;31m---------------------------------------------------------------------------\u001b[0m",
      "\u001b[0;31mValueError\u001b[0m                                Traceback (most recent call last)",
      "\u001b[0;32m<ipython-input-13-d79357e46ba6>\u001b[0m in \u001b[0;36m<module>\u001b[0;34m()\u001b[0m\n\u001b[1;32m     21\u001b[0m \u001b[0;34m\u001b[0m\u001b[0m\n\u001b[1;32m     22\u001b[0m \u001b[0mclf\u001b[0m \u001b[0;34m=\u001b[0m \u001b[0mGaussianNB\u001b[0m\u001b[0;34m(\u001b[0m\u001b[0;34m)\u001b[0m\u001b[0;34m\u001b[0m\u001b[0m\n\u001b[0;32m---> 23\u001b[0;31m \u001b[0mclf\u001b[0m\u001b[0;34m.\u001b[0m\u001b[0mfit\u001b[0m\u001b[0;34m(\u001b[0m\u001b[0mX_train\u001b[0m\u001b[0;34m,\u001b[0m \u001b[0mY_train\u001b[0m\u001b[0;34m)\u001b[0m\u001b[0;34m\u001b[0m\u001b[0m\n\u001b[0m",
      "\u001b[0;32m~/anaconda3/lib/python3.6/site-packages/sklearn/naive_bayes.py\u001b[0m in \u001b[0;36mfit\u001b[0;34m(self, X, y, sample_weight)\u001b[0m\n\u001b[1;32m    181\u001b[0m             \u001b[0mReturns\u001b[0m \u001b[0mself\u001b[0m\u001b[0;34m.\u001b[0m\u001b[0;34m\u001b[0m\u001b[0m\n\u001b[1;32m    182\u001b[0m         \"\"\"\n\u001b[0;32m--> 183\u001b[0;31m         \u001b[0mX\u001b[0m\u001b[0;34m,\u001b[0m \u001b[0my\u001b[0m \u001b[0;34m=\u001b[0m \u001b[0mcheck_X_y\u001b[0m\u001b[0;34m(\u001b[0m\u001b[0mX\u001b[0m\u001b[0;34m,\u001b[0m \u001b[0my\u001b[0m\u001b[0;34m)\u001b[0m\u001b[0;34m\u001b[0m\u001b[0m\n\u001b[0m\u001b[1;32m    184\u001b[0m         return self._partial_fit(X, y, np.unique(y), _refit=True,\n\u001b[1;32m    185\u001b[0m                                  sample_weight=sample_weight)\n",
      "\u001b[0;32m~/anaconda3/lib/python3.6/site-packages/sklearn/utils/validation.py\u001b[0m in \u001b[0;36mcheck_X_y\u001b[0;34m(X, y, accept_sparse, dtype, order, copy, force_all_finite, ensure_2d, allow_nd, multi_output, ensure_min_samples, ensure_min_features, y_numeric, warn_on_dtype, estimator)\u001b[0m\n\u001b[1;32m    571\u001b[0m     X = check_array(X, accept_sparse, dtype, order, copy, force_all_finite,\n\u001b[1;32m    572\u001b[0m                     \u001b[0mensure_2d\u001b[0m\u001b[0;34m,\u001b[0m \u001b[0mallow_nd\u001b[0m\u001b[0;34m,\u001b[0m \u001b[0mensure_min_samples\u001b[0m\u001b[0;34m,\u001b[0m\u001b[0;34m\u001b[0m\u001b[0m\n\u001b[0;32m--> 573\u001b[0;31m                     ensure_min_features, warn_on_dtype, estimator)\n\u001b[0m\u001b[1;32m    574\u001b[0m     \u001b[0;32mif\u001b[0m \u001b[0mmulti_output\u001b[0m\u001b[0;34m:\u001b[0m\u001b[0;34m\u001b[0m\u001b[0m\n\u001b[1;32m    575\u001b[0m         y = check_array(y, 'csr', force_all_finite=True, ensure_2d=False,\n",
      "\u001b[0;32m~/anaconda3/lib/python3.6/site-packages/sklearn/utils/validation.py\u001b[0m in \u001b[0;36mcheck_array\u001b[0;34m(array, accept_sparse, dtype, order, copy, force_all_finite, ensure_2d, allow_nd, ensure_min_samples, ensure_min_features, warn_on_dtype, estimator)\u001b[0m\n\u001b[1;32m    439\u001b[0m                     \u001b[0;34m\"Reshape your data either using array.reshape(-1, 1) if \"\u001b[0m\u001b[0;34m\u001b[0m\u001b[0m\n\u001b[1;32m    440\u001b[0m                     \u001b[0;34m\"your data has a single feature or array.reshape(1, -1) \"\u001b[0m\u001b[0;34m\u001b[0m\u001b[0m\n\u001b[0;32m--> 441\u001b[0;31m                     \"if it contains a single sample.\".format(array))\n\u001b[0m\u001b[1;32m    442\u001b[0m             \u001b[0marray\u001b[0m \u001b[0;34m=\u001b[0m \u001b[0mnp\u001b[0m\u001b[0;34m.\u001b[0m\u001b[0matleast_2d\u001b[0m\u001b[0;34m(\u001b[0m\u001b[0marray\u001b[0m\u001b[0;34m)\u001b[0m\u001b[0;34m\u001b[0m\u001b[0m\n\u001b[1;32m    443\u001b[0m             \u001b[0;31m# To ensure that array flags are maintained\u001b[0m\u001b[0;34m\u001b[0m\u001b[0;34m\u001b[0m\u001b[0m\n",
      "\u001b[0;31mValueError\u001b[0m: Expected 2D array, got 1D array instead:\narray=[ 1  1  1 ..., 31 31 31].\nReshape your data either using array.reshape(-1, 1) if your data has a single feature or array.reshape(1, -1) if it contains a single sample."
     ]
    }
   ],
   "source": [
    "#If Gustav wants to travel in august from LAX what airline should he use to reduce the chances of delay\n",
    "#We shall use the month of july to train \n",
    "#Using naive bayes algorithm\n",
    "\n",
    "#all flight from the LAX airport and removed columns that are uncessary\n",
    "flight_LAX = flight_data[(flight_data.airport == \"LAX\")]\n",
    "flight_LAX = flight_LAX.drop(['year', 'date','count','airport'], 1)\n",
    "\n",
    "#train with the month of july\n",
    "flight_LAX_july = flight_LAX[(flight_LAX.month == 7)]\n",
    "flight_LAX_july = flight_LAX_july.drop(['month'], 1)\n",
    "\n",
    "X_train = flight_LAX_july.day.values\n",
    "Y_train = flight_LAX_july.delay.values\n",
    "\n",
    "#test with the month of august \n",
    "flight_LAX_august = flight_LAX[(flight_LAX.month == 8)]\n",
    "flight_LAX_august = flight_LAX_august.drop(['month'], 1)\n",
    "\n",
    "X_test=flight_LAX_august.airline.values\n",
    "\n",
    "clf = GaussianNB()\n",
    "clf.fit(X_train, Y_train)\n"
   ]
  },
  {
   "cell_type": "code",
   "execution_count": 72,
   "metadata": {
    "collapsed": true
   },
   "outputs": [],
   "source": []
  },
  {
   "cell_type": "markdown",
   "metadata": {},
   "source": []
  },
  {
   "cell_type": "code",
   "execution_count": null,
   "metadata": {
    "collapsed": true
   },
   "outputs": [],
   "source": []
  }
 ],
 "metadata": {
  "kernelspec": {
   "display_name": "Python 3",
   "language": "python",
   "name": "python3"
  },
  "language_info": {
   "codemirror_mode": {
    "name": "ipython",
    "version": 3
   },
   "file_extension": ".py",
   "mimetype": "text/x-python",
   "name": "python",
   "nbconvert_exporter": "python",
   "pygments_lexer": "ipython3",
   "version": "3.6.3"
  }
 },
 "nbformat": 4,
 "nbformat_minor": 2
}
