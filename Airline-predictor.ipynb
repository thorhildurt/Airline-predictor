{
 "cells": [
  {
   "cell_type": "markdown",
   "metadata": {},
   "source": [
    "# <span style=\"color:#00c5cd; font-size:34px;\" >Airline predictor</span>\n",
    "### <span style=\"color:#ff4444;\">Þórhildur Þorleiksdóttir and Lea El Hage </span>\n",
    "#### <span style=\"color:#ffb14c;\">Artificial Intelligence And Applied Methods, 2017</span>"
   ]
  },
  {
   "cell_type": "code",
   "execution_count": 174,
   "metadata": {
    "collapsed": true
   },
   "outputs": [],
   "source": [
    "import pandas as pd\n",
    "import matplotlib.pyplot as plt\n"
   ]
  },
  {
   "cell_type": "code",
   "execution_count": 184,
   "metadata": {
    "collapsed": true
   },
   "outputs": [],
   "source": [
    "data = pd.read_csv('flights.csv', encoding='ISO-8859-1', usecols=[0,1,2,4,7,11,24], low_memory=False) #,25,26,27,28,29,30])\n",
    "# Year0 | Month1 | Day2 | Airline4 | Origin_airport7 | Departure_delay11 | Cancelled24 | Cancellation_reason25 | Air_system_delay26 | Security_delay27 | Airline_delay28 | Late_Aircraft_delay29 | \n",
    "#Weather_delay30"
   ]
  },
  {
   "cell_type": "code",
   "execution_count": 186,
   "metadata": {},
   "outputs": [],
   "source": [
    "flight_data = data.rename(columns={'YEAR':'year','MONTH':'month','DAY':'day',\n",
    "                                   'AIRLINE':'airline','ORIGIN_AIRPORT':'airport','DEPARTURE_DELAY':'delay', \n",
    "                                   'CANCELLED':'cancelled'})\n",
    "\n",
    "\n",
    "flight_data['date'] = pd.to_datetime(flight_data[['year','month','day']]).dt.date\n",
    "\n",
    "flight_data['delay'] = (flight_data['delay'] > 0).astype(int)"
   ]
  },
  {
   "cell_type": "code",
   "execution_count": 187,
   "metadata": {
    "collapsed": true
   },
   "outputs": [],
   "source": [
    "#Total flight per month\n",
    "\n",
    "flight_data['count'] = 0\n",
    "flights_per_month = flight_data.groupby(['month'])['count'].count().to_frame()"
   ]
  },
  {
   "cell_type": "code",
   "execution_count": 188,
   "metadata": {
    "collapsed": true
   },
   "outputs": [],
   "source": [
    "#Delayed flights per month\n",
    "\n",
    "flight_data_delays = flight_data[(flight_data.delay == 1)]\n",
    "delayed_flights_per_month = flight_data_delays.groupby(['month'])['count'].count().to_frame()\n",
    "delayed_flights_per_month = delayed_flights_per_month.rename(columns={'count':'d_count'})"
   ]
  },
  {
   "cell_type": "code",
   "execution_count": 189,
   "metadata": {},
   "outputs": [],
   "source": [
    "#Cancelation of flights per month\n",
    "\n",
    "flight_data_cancelation = flight_data[(flight_data.cancelled == 1)]\n",
    "cancelled_flights_per_month = flight_data_cancelation.groupby(['month'])['count'].count().to_frame()\n",
    "cancelled_flights_per_month = cancelled_flights_per_month.rename(columns={'count':'c_count'})\n"
   ]
  },
  {
   "cell_type": "code",
   "execution_count": 190,
   "metadata": {},
   "outputs": [
    {
     "data": {
      "image/png": "[encoded data removed]",
      "text/plain": [
       "<matplotlib.figure.Figure at 0x12188b2e8>"
      ]
     },
     "metadata": {},
     "output_type": "display_data"
    }
   ],
   "source": [
    "#Mergin the dataframes on date for the plot\n",
    "\n",
    "merged_frame = pd.concat([flights_per_month, delayed_flights_per_month, cancelled_flights_per_month], axis=1)\n",
    "\n",
    "ax = merged_frame[['c_count','d_count','count']].plot(kind='bar', title='flights per month', figsize=(15,10),fontsize=12)\n",
    "ax.set_xlabel('date', fontsize=12)\n",
    "ax.set_ylabel('Frequences', fontsize=12)\n",
    "plt.show()\n",
    "\n"
   ]
  },
  {
   "cell_type": "code",
   "execution_count": null,
   "metadata": {
    "collapsed": true
   },
   "outputs": [],
   "source": [
    "flights_per_day"
   ]
  },
  {
   "cell_type": "code",
   "execution_count": 122,
   "metadata": {},
   "outputs": [
    {
     "data": {
      "text/plain": [
       "<pandas.core.groupby.DataFrameGroupBy object at 0x129121940>"
      ]
     },
     "execution_count": 122,
     "metadata": {},
     "output_type": "execute_result"
    }
   ],
   "source": []
  },
  {
   "cell_type": "code",
   "execution_count": null,
   "metadata": {
    "collapsed": true
   },
   "outputs": [],
   "source": []
  },
  {
   "cell_type": "code",
   "execution_count": null,
   "metadata": {
    "collapsed": true
   },
   "outputs": [],
   "source": []
  }
 ],
 "metadata": {
  "kernelspec": {
   "display_name": "Python 3",
   "language": "python",
   "name": "python3"
  },
  "language_info": {
   "codemirror_mode": {
    "name": "ipython",
    "version": 3
   },
   "file_extension": ".py",
   "mimetype": "text/x-python",
   "name": "python",
   "nbconvert_exporter": "python",
   "pygments_lexer": "ipython3",
   "version": "3.6.3"
  }
 },
 "nbformat": 4,
 "nbformat_minor": 2
}
